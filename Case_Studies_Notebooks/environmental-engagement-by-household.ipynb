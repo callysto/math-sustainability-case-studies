{
 "cells": [
  {
   "cell_type": "markdown",
   "metadata": {},
   "source": [
    "![alt text](https://github.com/callysto/callysto-sample-notebooks/blob/master/notebooks/images/Callysto_Notebook-Banner_Top_06.06.18.jpg?raw=true)"
   ]
  },
  {
   "cell_type": "markdown",
   "metadata": {},
   "source": [
    "## Case Study: Environmental Engagement, by type of household\n",
    "\n",
    "\n",
    "Table: 38-10-0024-01 (formerly CANSIM 153-0152)\n",
    "\n",
    "Geography: Canada\n",
    "\n",
    "Source\n",
    "\n",
    "https://www150.statcan.gc.ca/t1/tbl1/en/tv.action?pid=3810002401"
   ]
  },
  {
   "cell_type": "code",
   "execution_count": null,
   "metadata": {},
   "outputs": [],
   "source": [
    "%run -i ./stats_can/helpers.py\n",
    "%run -i ./stats_can/scwds.py\n",
    "%run -i ./stats_can/sc.py"
   ]
  },
  {
   "cell_type": "code",
   "execution_count": null,
   "metadata": {},
   "outputs": [],
   "source": [
    "from ipywidgets import widgets, VBox, HBox, Button\n",
    "from ipywidgets import Button, Layout, widgets\n",
    "from IPython.display import display, Javascript, Markdown, HTML\n",
    "import datetime as dt\n",
    "import pandas as pd\n",
    "import json\n",
    "import datetime\n",
    "from tqdm import tnrange, tqdm_notebook\n",
    "from time import sleep\n",
    "\n",
    "pd.set_option('display.max_rows', 500)\n",
    "pd.set_option('display.max_columns', 500)\n",
    "\n",
    "style = {'description_width': 'initial'}\n",
    "\n"
   ]
  },
  {
   "cell_type": "code",
   "execution_count": null,
   "metadata": {},
   "outputs": [],
   "source": [
    "# # Download data \n",
    "# DATA SET PRODUCT ID  for internal use only. \n",
    "productId = '38-10-0024-01'\n",
    "\n",
    "        \n",
    "download_tables(str(productId))\n",
    "\n",
    "\n",
    "df_fullDATA = zip_table_to_dataframe(productId)\n",
    "\n",
    "\n",
    "# Clean up full dataset - remove internal use columns\n",
    "cols = list(df_fullDATA.loc[:,'REF_DATE':'UOM'])+ ['SCALAR_FACTOR'] +  ['VALUE']\n",
    "df_less = df_fullDATA[cols]\n",
    "df_less2 = df_less.drop([\"DGUID\"], axis=1)\n",
    "\n",
    "# Display only first five entries\n",
    "df_less2.head()"
   ]
  },
  {
   "cell_type": "code",
   "execution_count": null,
   "metadata": {},
   "outputs": [],
   "source": [
    "# Fancy user interface to explore datasets\n",
    "def rerun_cell( b ):\n",
    "    \n",
    "    display(Javascript('IPython.notebook.execute_cell_range(IPython.notebook.get_selected_index()+1,IPython.notebook.get_selected_index()+3)'))    \n",
    "\n",
    "    \n",
    "def run_4cell( b ):\n",
    "    \n",
    "    display(Javascript('IPython.notebook.execute_cell_range(IPython.notebook.get_selected_index()+1,IPython.notebook.get_selected_index()+5)'))    \n",
    "\n",
    "style = {'description_width': 'initial'}\n",
    "\n",
    "all_the_widgets = [widgets.Dropdown(\n",
    "                value = df_less2[\"Type of household\"].tolist()[0],\n",
    "                options = df_less2[\"Type of household\"].unique(), \n",
    "                description ='Type of household:', \n",
    "                style = style, \n",
    "                disabled=False),\n",
    "                  widgets.Dropdown(\n",
    "                value = df_less2[\"Environmental engagement\"].tolist()[0],\n",
    "                options = df_less2[\"Environmental engagement\"].unique(), \n",
    "                description ='Environmental engagement:', \n",
    "                style = style, \n",
    "                disabled=False)]\n",
    "\n",
    "\n",
    "# Button widget\n",
    "CD_button = widgets.Button(\n",
    "    button_style='success',\n",
    "    description=\"Preview Dataset\", \n",
    "    layout=Layout(width='15%', height='30px'),\n",
    "    style=style\n",
    ")    \n",
    "\n",
    "# Connect widget to function - run subsequent cells\n",
    "CD_button.on_click( rerun_cell )\n",
    "\n",
    "# user menu using categories found above\n",
    "tab3 = VBox(children=[HBox(children=all_the_widgets[0:3]),\n",
    "                      CD_button])\n",
    "tab = widgets.Tab(children=[tab3])\n",
    "tab.set_title(0, 'Load Data Subset')\n",
    "display(tab)"
   ]
  },
  {
   "cell_type": "code",
   "execution_count": null,
   "metadata": {},
   "outputs": [],
   "source": [
    "sub_df = df_less2[(df_less2[\"Type of household\"]==all_the_widgets[0].value)\n",
    "                            & (df_less2[\"Environmental engagement\"]==all_the_widgets[1].value)]\n",
    "sub_df"
   ]
  },
  {
   "cell_type": "code",
   "execution_count": null,
   "metadata": {},
   "outputs": [],
   "source": [
    "# Time to plot!\n",
    "import matplotlib.pyplot as plt\n",
    "from pandas.plotting import register_matplotlib_converters\n",
    "from matplotlib.pyplot import figure\n",
    "register_matplotlib_converters()\n",
    "%matplotlib inline\n",
    "\n",
    "# Actual plot of time series\n",
    "figure(num=None, figsize=(8, 6), dpi=80, facecolor='w', edgecolor='k')\n",
    "# Get start and end date, plot value found under \"VALUE\" command\n",
    "plt.plot(sub_df[\"REF_DATE\"],sub_df[\"VALUE\"],'b--',label='Value')\n",
    "plt.xlabel('Year', fontsize=20)\n",
    "plt.ylabel('Value',fontsize=20)\n",
    "# Title changes depending on the subcategory explored\n",
    "plt.title(str(all_the_widgets[0].value) + \", \"+  str(all_the_widgets[1].value),fontsize=20)\n",
    "plt.xticks(rotation=90)\n",
    "plt.grid(True)\n"
   ]
  },
  {
   "cell_type": "code",
   "execution_count": null,
   "metadata": {},
   "outputs": [],
   "source": [
    "#load \"cufflinks\" library under short name \"cf\"\n",
    "import cufflinks as cf\n",
    "\n",
    "#command to display graphics correctly in Jupyter notebook\n",
    "cf.go_offline()\n",
    "\n",
    "def enable_plotly_in_cell():\n",
    "    import IPython\n",
    "    from plotly.offline import init_notebook_mode\n",
    "    display(IPython.core.display.HTML('''<script src=\"/static/components/requirejs/require.js\"></script>'''))\n",
    "    init_notebook_mode(connected=False)\n",
    "    \n",
    "get_ipython().events.register('pre_run_cell', enable_plotly_in_cell)\n"
   ]
  },
  {
   "cell_type": "code",
   "execution_count": null,
   "metadata": {},
   "outputs": [],
   "source": [
    "all_data = pd.pivot_table(df_less2, values='VALUE', index=['Type of household'],columns=['Environmental engagement'], aggfunc=np.average)"
   ]
  },
  {
   "cell_type": "code",
   "execution_count": null,
   "metadata": {},
   "outputs": [],
   "source": [
    "all_data"
   ]
  },
  {
   "cell_type": "code",
   "execution_count": null,
   "metadata": {},
   "outputs": [],
   "source": [
    "title=\"Engagement, independently or as part of a group or organization, by type of household\"\n",
    "print(title)\n",
    "layout = dict(yaxis=dict(side='left'))\n",
    "my_fig = all_data.iplot(asFigure=True,kind='bar',layout=layout)\n",
    "my_fig.layout.legend=dict(x=0.1, y=1.8)\n",
    "my_fig.iplot(filename='line-example.html') \n"
   ]
  },
  {
   "cell_type": "code",
   "execution_count": null,
   "metadata": {},
   "outputs": [],
   "source": [
    "all_data2 = pd.pivot_table(df_less2, values='VALUE', index=['Type of household',\"REF_DATE\"],columns=['Environmental engagement'])"
   ]
  },
  {
   "cell_type": "code",
   "execution_count": null,
   "metadata": {},
   "outputs": [],
   "source": [
    "all_data2"
   ]
  },
  {
   "cell_type": "code",
   "execution_count": null,
   "metadata": {},
   "outputs": [],
   "source": [
    "my_fig2 = all_data2.iplot(asFigure=True,kind='box',layout=layout)\n",
    "my_fig2.layout.legend=dict(x=0.1, y=1.8)\n",
    "my_fig2.iplot(filename='box-example.html') "
   ]
  },
  {
   "cell_type": "markdown",
   "metadata": {},
   "source": [
    "![alt text](https://github.com/callysto/callysto-sample-notebooks/blob/master/notebooks/images/Callysto_Notebook-Banners_Bottom_06.06.18.jpg?raw=true)"
   ]
  }
 ],
 "metadata": {
  "kernelspec": {
   "display_name": "Python 3",
   "language": "python",
   "name": "python3"
  },
  "language_info": {
   "codemirror_mode": {
    "name": "ipython",
    "version": 3
   },
   "file_extension": ".py",
   "mimetype": "text/x-python",
   "name": "python",
   "nbconvert_exporter": "python",
   "pygments_lexer": "ipython3",
   "version": "3.7.4"
  }
 },
 "nbformat": 4,
 "nbformat_minor": 2
}
