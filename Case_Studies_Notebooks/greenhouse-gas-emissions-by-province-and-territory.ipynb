{
 "cells": [
  {
   "cell_type": "markdown",
   "metadata": {},
   "source": [
    "![alt text](https://github.com/callysto/callysto-sample-notebooks/blob/master/notebooks/images/Callysto_Notebook-Banner_Top_06.06.18.jpg?raw=true)"
   ]
  },
  {
   "cell_type": "markdown",
   "metadata": {},
   "source": [
    "## Case Study: Greenhouse gas emissions, by province and territory (1990, 2005, 2017)\n",
    "\n",
    "Greenhouse gas emissions – Greenhouse gas emissions by province and territory, Canada\n",
    "\n",
    "Geography: Canada, Provinces and Territories of\n",
    "\n",
    "Source\n",
    "\n",
    "Open Government Data\n",
    "\n",
    "https://open.canada.ca/data/en/dataset/9a673fa1-22af-41c1-9ae5-de38de714c83"
   ]
  },
  {
   "cell_type": "code",
   "execution_count": null,
   "metadata": {},
   "outputs": [],
   "source": [
    "# # Download data \n",
    "# DATA SET PRODUCT ID  for internal use only. \n",
    "import pandas as pd\n",
    "link = \"https://www.canada.ca/content/dam/eccc/documents/csv/cesindicators/ghg-emissions/2019/GHG-emissions-province-en.csv\"\n",
    "df_less2 = pd.read_csv(link)\n",
    "df_less2 = df_less2.dropna(how='all')\n",
    "prov_df = df_less2.iloc[:-3]\n",
    "new_header = prov_df.iloc[0]\n",
    "data_df = prov_df.iloc[1:]\n",
    "data_df.columns = new_header\n",
    "data_df = data_df.fillna(0)\n",
    "data_df = data_df.replace({'1.6[A]': \"1.6\"})"
   ]
  },
  {
   "cell_type": "code",
   "execution_count": null,
   "metadata": {},
   "outputs": [],
   "source": [
    "data_df.iloc[:,1:]= data_df.iloc[:,1:].astype(float)"
   ]
  },
  {
   "cell_type": "code",
   "execution_count": null,
   "metadata": {},
   "outputs": [],
   "source": [
    "data_df = data_df.set_index(\"Province or territory\")"
   ]
  },
  {
   "cell_type": "code",
   "execution_count": null,
   "metadata": {
    "scrolled": false
   },
   "outputs": [],
   "source": [
    "data_df"
   ]
  },
  {
   "cell_type": "code",
   "execution_count": null,
   "metadata": {},
   "outputs": [],
   "source": [
    "#load \"cufflinks\" library under short name \"cf\"\n",
    "import cufflinks as cf\n",
    "\n",
    "#command to display graphics correctly in Jupyter notebook\n",
    "cf.go_offline()\n",
    "\n",
    "def enable_plotly_in_cell():\n",
    "    import IPython\n",
    "    from plotly.offline import init_notebook_mode\n",
    "    display(IPython.core.display.HTML('''<script src=\"/static/components/requirejs/require.js\"></script>'''))\n",
    "    init_notebook_mode(connected=False)\n",
    "    \n",
    "get_ipython().events.register('pre_run_cell', enable_plotly_in_cell)\n"
   ]
  },
  {
   "cell_type": "code",
   "execution_count": null,
   "metadata": {},
   "outputs": [],
   "source": [
    "# Bar plot for provinces \n",
    "layout = dict(yaxis=dict(side='left'),\\\n",
    "              title='Greenhouse gas emissions by province and territory, Canada, 1990, 2005 and 2017')\n",
    "my_fig = data_df.iplot(layout= layout,asFigure=True,kind='bar')\n",
    "my_fig.layout.legend=dict(x=-0.01, y=1.0)\n",
    "my_fig.iplot(filename='line-example.html') "
   ]
  },
  {
   "cell_type": "code",
   "execution_count": null,
   "metadata": {},
   "outputs": [],
   "source": [
    "layout = dict(yaxis=dict(side='left'),\\\n",
    "              title='Greenhouse gas emissions by province and territory, Canada, 1990, 2005 and 2017')\n",
    "my_fig2 = data_df.iplot(layout= layout,asFigure=True,kind='box')\n",
    "my_fig2.update_layout(showlegend=False)\n",
    "my_fig2.iplot(filename='line-example.html') "
   ]
  },
  {
   "cell_type": "code",
   "execution_count": null,
   "metadata": {},
   "outputs": [],
   "source": [
    "link2 = \"https://www.canada.ca/content/dam/eccc/documents/csv/cesindicators/ghg-emissions/2019/GHG-emissions-sector-en.csv\"\n",
    "greenhouse_sector = pd.read_csv(link2)\n",
    "greenhouse_sector = greenhouse_sector.dropna()"
   ]
  },
  {
   "cell_type": "code",
   "execution_count": null,
   "metadata": {},
   "outputs": [],
   "source": [
    "new_head = greenhouse_sector.iloc[0]\n",
    "greenhouse_sector = greenhouse_sector.iloc[1:]\n",
    "greenhouse_sector.columns = new_head"
   ]
  },
  {
   "cell_type": "code",
   "execution_count": null,
   "metadata": {},
   "outputs": [],
   "source": [
    "greenhouse_sector = greenhouse_sector.set_index(\"Year\")"
   ]
  },
  {
   "cell_type": "code",
   "execution_count": null,
   "metadata": {},
   "outputs": [],
   "source": [
    "greenhouse_sector"
   ]
  },
  {
   "cell_type": "code",
   "execution_count": null,
   "metadata": {},
   "outputs": [],
   "source": [
    "greenhouse_sector = greenhouse_sector.astype(float)"
   ]
  },
  {
   "cell_type": "code",
   "execution_count": null,
   "metadata": {},
   "outputs": [],
   "source": [
    "layout = dict(yaxis=dict(side='left'),\\\n",
    "              title='Greenhouse gas emissions by sector, Canada, 1990-2017')\n",
    "my_fig3 = greenhouse_sector.iplot(layout= layout,asFigure=True,kind='box')\n",
    "my_fig3.update_layout(showlegend=False)\n",
    "my_fig3.iplot(filename='line-example.html') "
   ]
  },
  {
   "cell_type": "code",
   "execution_count": null,
   "metadata": {},
   "outputs": [],
   "source": [
    "\n",
    "layout = dict(yaxis=dict(side='left'),\\\n",
    "              title='Greenhouse gas emissions by sector, Canada, 1990-2017')\n",
    "my_fig4 = greenhouse_sector.iplot(layout= layout,asFigure=True,kind='line')\n",
    "my_fig4.update_layout(showlegend=True)\n",
    "my_fig4.iplot(filename='line-example.html') "
   ]
  },
  {
   "cell_type": "markdown",
   "metadata": {},
   "source": [
    "![alt text](https://github.com/callysto/callysto-sample-notebooks/blob/master/notebooks/images/Callysto_Notebook-Banners_Bottom_06.06.18.jpg?raw=true)"
   ]
  }
 ],
 "metadata": {
  "kernelspec": {
   "display_name": "Python 3",
   "language": "python",
   "name": "python3"
  },
  "language_info": {
   "codemirror_mode": {
    "name": "ipython",
    "version": 3
   },
   "file_extension": ".py",
   "mimetype": "text/x-python",
   "name": "python",
   "nbconvert_exporter": "python",
   "pygments_lexer": "ipython3",
   "version": "3.7.4"
  }
 },
 "nbformat": 4,
 "nbformat_minor": 2
}
